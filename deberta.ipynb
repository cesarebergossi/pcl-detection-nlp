{
 "cells": [
  {
   "cell_type": "code",
   "execution_count": null,
   "metadata": {},
   "outputs": [
    {
     "name": "stderr",
     "output_type": "stream",
     "text": [
      "/vol/bitbucket/lf524/nlp_cw/.venv/lib/python3.12/site-packages/tqdm/auto.py:21: TqdmWarning: IProgress not found. Please update jupyter and ipywidgets. See https://ipywidgets.readthedocs.io/en/stable/user_install.html\n",
      "  from .autonotebook import tqdm as notebook_tqdm\n",
      "2025-03-04 14:33:36.005264: E external/local_xla/xla/stream_executor/cuda/cuda_fft.cc:477] Unable to register cuFFT factory: Attempting to register factory for plugin cuFFT when one has already been registered\n",
      "WARNING: All log messages before absl::InitializeLog() is called are written to STDERR\n",
      "E0000 00:00:1741098818.240860  541736 cuda_dnn.cc:8310] Unable to register cuDNN factory: Attempting to register factory for plugin cuDNN when one has already been registered\n",
      "E0000 00:00:1741098818.954373  541736 cuda_blas.cc:1418] Unable to register cuBLAS factory: Attempting to register factory for plugin cuBLAS when one has already been registered\n",
      "2025-03-04 14:33:43.233432: I tensorflow/core/platform/cpu_feature_guard.cc:210] This TensorFlow binary is optimized to use available CPU instructions in performance-critical operations.\n",
      "To enable the following instructions: AVX2 AVX512F FMA, in other operations, rebuild TensorFlow with the appropriate compiler flags.\n"
     ]
    }
   ],
   "source": [
<<<<<<< HEAD
=======
    "from transformers import DebertaV2Tokenizer, DebertaV2ForSequenceClassification, DebertaV2Config, Trainer, TrainingArguments, EarlyStoppingCallback\n",
    "from simpletransformers.classification import ClassificationModel, ClassificationArgs, MultiLabelClassificationModel, MultiLabelClassificationArgs\n",
>>>>>>> 2e5fa84106e63e7cae2205816a019fe0cd815dc6
    "from urllib import request\n",
    "import pandas as pd\n",
    "import numpy as np\n",
    "import logging\n",
    "import torch\n",
    "from collections import Counter\n",
    "from ast import literal_eval\n",
    "from datasets import Dataset\n",
    "from sklearn.model_selection import train_test_split\n",
    "from sklearn.metrics import f1_score\n",
    "from sklearn.utils.class_weight import compute_class_weight\n",
    "import numpy as np\n",
    "from transformers import EarlyStoppingCallback, DebertaV2Tokenizer, DebertaV2Config, DebertaV2ForSequenceClassification, TrainingArguments, Trainer"
   ]
  },
  {
   "cell_type": "code",
   "execution_count": 34,
   "metadata": {},
   "outputs": [
    {
     "name": "stdout",
     "output_type": "stream",
     "text": [
      "Cuda available?  True\n"
     ]
    }
   ],
   "source": [
    "# prepare logger\n",
    "logging.basicConfig(level=logging.INFO)\n",
    "\n",
    "transformers_logger = logging.getLogger(\"transformers\")\n",
    "transformers_logger.setLevel(logging.WARNING)\n",
    "\n",
    "# check gpu\n",
    "cuda_available = torch.cuda.is_available()\n",
    "\n",
    "print('Cuda available? ',cuda_available)"
   ]
  },
  {
   "cell_type": "code",
   "execution_count": 35,
   "metadata": {},
   "outputs": [
    {
     "name": "stdout",
     "output_type": "stream",
     "text": [
      "Found GPU at: /device:GPU:0\n"
     ]
    },
    {
     "name": "stderr",
     "output_type": "stream",
     "text": [
      "I0000 00:00:1741105443.061701  541736 gpu_device.cc:2022] Created device /device:GPU:0 with 13775 MB memory:  -> device: 0, name: Tesla T4, pci bus id: 0000:00:06.0, compute capability: 7.5\n"
     ]
    }
   ],
   "source": [
    "if cuda_available:\n",
    "  import tensorflow as tf\n",
    "  # Get the GPU device name.\n",
    "  device_name = tf.test.gpu_device_name()\n",
    "  # The device name should look like the following:\n",
    "  if device_name == '/device:GPU:0':\n",
    "      print('Found GPU at: {}'.format(device_name))\n",
    "  else:\n",
    "      raise SystemError('GPU device not found')"
   ]
  },
  {
   "cell_type": "code",
   "execution_count": null,
   "metadata": {},
   "outputs": [],
   "source": [
    "train_df = pd.read_csv(\"Data/augmented_train_split.csv\")\n",
    "val_df = pd.read_csv(\"Data/val_split.csv\")\n",
<<<<<<< HEAD
    "dev_df = pd.read_csv(\"Data/dev.csv\")\n",
    "\n",
    "train_df[\"text\"] = train_df[\"text\"].astype(str)\n",
    "val_df[\"text\"] = val_df[\"text\"].astype(str)\n",
    "dev_df[\"text\"] = dev_df[\"text\"].astype(str)\n",
    "\n",
    "train_df[\"label\"] = train_df[\"label\"].astype(int)\n",
    "val_df[\"label\"] = val_df[\"label\"].astype(int)\n",
    "dev_df[\"label\"] = dev_df[\"label\"].astype(int)"
=======
    "dev_df = pd.read_csv(\"Data/dev.csv\")"
   ]
  },
  {
   "cell_type": "code",
   "execution_count": null,
   "metadata": {},
   "outputs": [],
   "source": [
    "train_df[\"text\"] = train_df[\"text\"].astype(str)\n",
    "val_df[\"text\"] = val_df[\"text\"].astype(str)\n",
    "dev_df[\"text\"] = dev_df[\"text\"].astype(str)"
>>>>>>> 2e5fa84106e63e7cae2205816a019fe0cd815dc6
   ]
  },
  {
   "cell_type": "code",
   "execution_count": null,
   "metadata": {},
   "outputs": [
    {
     "name": "stderr",
     "output_type": "stream",
     "text": [
      "Map: 100%|██████████| 12057/12057 [00:06<00:00, 1983.05 examples/s]\n",
      "Map: 100%|██████████| 1675/1675 [00:00<00:00, 2003.04 examples/s]\n",
      "Map: 100%|██████████| 2094/2094 [00:01<00:00, 2030.89 examples/s]\n"
     ]
    },
    {
     "name": "stdout",
     "output_type": "stream",
     "text": [
      "Class Weights: [0.55236394 5.27427822]\n"
     ]
    },
    {
     "name": "stderr",
     "output_type": "stream",
     "text": [
      "Some weights of DebertaV2ForSequenceClassification were not initialized from the model checkpoint at microsoft/deberta-v3-small and are newly initialized: ['classifier.bias', 'classifier.weight', 'pooler.dense.bias', 'pooler.dense.weight']\n",
      "You should probably TRAIN this model on a down-stream task to be able to use it for predictions and inference.\n",
      "/vol/bitbucket/lf524/nlp_cw/.venv/lib/python3.12/site-packages/transformers/training_args.py:1594: FutureWarning: `evaluation_strategy` is deprecated and will be removed in version 4.46 of 🤗 Transformers. Use `eval_strategy` instead\n",
      "  warnings.warn(\n"
     ]
    },
    {
     "data": {
      "text/html": [
       "\n",
       "    <div>\n",
       "      \n",
       "      <progress value='1508' max='3016' style='width:300px; height:20px; vertical-align: middle;'></progress>\n",
       "      [1508/3016 22:55 < 22:57, 1.09 it/s, Epoch 4/8]\n",
       "    </div>\n",
       "    <table border=\"1\" class=\"dataframe\">\n",
       "  <thead>\n",
       " <tr style=\"text-align: left;\">\n",
       "      <th>Epoch</th>\n",
       "      <th>Training Loss</th>\n",
       "      <th>Validation Loss</th>\n",
       "      <th>F1</th>\n",
       "    </tr>\n",
       "  </thead>\n",
       "  <tbody>\n",
       "    <tr>\n",
       "      <td>1</td>\n",
       "      <td>0.397500</td>\n",
       "      <td>0.410860</td>\n",
       "      <td>0.447471</td>\n",
       "    </tr>\n",
       "    <tr>\n",
       "      <td>2</td>\n",
       "      <td>0.293300</td>\n",
       "      <td>0.392177</td>\n",
       "      <td>0.503171</td>\n",
       "    </tr>\n",
       "    <tr>\n",
       "      <td>3</td>\n",
       "      <td>0.316700</td>\n",
       "      <td>0.415477</td>\n",
       "      <td>0.531328</td>\n",
       "    </tr>\n",
       "    <tr>\n",
       "      <td>4</td>\n",
       "      <td>0.240800</td>\n",
       "      <td>0.476676</td>\n",
       "      <td>0.540000</td>\n",
       "    </tr>\n",
       "  </tbody>\n",
       "</table><p>"
      ],
      "text/plain": [
       "<IPython.core.display.HTML object>"
      ]
     },
     "metadata": {},
     "output_type": "display_data"
    },
    {
     "name": "stdout",
     "output_type": "stream",
     "text": [
      "\n",
      "✅ Evaluating on Dev Set...\n"
     ]
    },
    {
     "data": {
      "text/html": [],
      "text/plain": [
       "<IPython.core.display.HTML object>"
      ]
     },
     "metadata": {},
     "output_type": "display_data"
    },
    {
     "name": "stdout",
     "output_type": "stream",
     "text": [
      "✅ Final Dev F1 Score: 0.5203\n"
     ]
    }
   ],
   "source": [
    "# Model name\n",
    "MODEL_NAME = \"microsoft/deberta-v3-small\"\n",
    "\n",
    "# Load tokenizer\n",
    "tokenizer = DebertaV2Tokenizer.from_pretrained(MODEL_NAME)\n",
    "\n",
    "# Load model config with modified dropout\n",
    "config = DebertaV2Config.from_pretrained(\n",
    "    MODEL_NAME,\n",
    "    num_labels=2,  \n",
    "    hidden_dropout_prob=0.2,  \n",
    ")\n",
    "\n",
<<<<<<< HEAD
    "# ✅ **Convert Pandas DataFrames to Hugging Face Datasets**\n",
=======
    "# Ensure Labels are Integers\n",
    "train_df[\"label\"] = train_df[\"label\"].astype(int)\n",
    "val_df[\"label\"] = val_df[\"label\"].astype(int)\n",
    "dev_df[\"label\"] = dev_df[\"label\"].astype(int)\n",
    "\n",
    "# Convert Pandas DataFrames to Hugging Face Datasets\n",
>>>>>>> 2e5fa84106e63e7cae2205816a019fe0cd815dc6
    "train_dataset = Dataset.from_pandas(train_df)\n",
    "val_dataset = Dataset.from_pandas(val_df)\n",
    "dev_dataset = Dataset.from_pandas(dev_df)  \n",
    "\n",
    "# Tokenization function\n",
    "def tokenize_function(examples):\n",
    "    return tokenizer(examples[\"text\"], padding=\"max_length\", truncation=True, max_length=512)\n",
    "\n",
    "train_dataset = train_dataset.map(tokenize_function, batched=True)\n",
    "val_dataset = val_dataset.map(tokenize_function, batched=True)\n",
    "dev_dataset = dev_dataset.map(tokenize_function, batched=True)\n",
    "\n",
    "# Compute Class Weights\n",
    "labels = train_df[\"label\"].values\n",
    "class_weights = compute_class_weight(class_weight=\"balanced\", classes=np.unique(labels), y=labels)\n",
    "log_class_weights = torch.tensor(np.log1p(class_weights), dtype=torch.float32).to(\"cuda\")\n",
    "\n",
<<<<<<< HEAD
    "# ✅ **Modify Trainer to Apply Loss Weights**\n",
=======
    "print(f\"Class Weights: {class_weights}\")\n",
    "\n",
    "# Modify Trainer to Apply Loss Weights\n",
>>>>>>> 2e5fa84106e63e7cae2205816a019fe0cd815dc6
    "class WeightedTrainer(Trainer):\n",
    "    def compute_loss(self, model, inputs, return_outputs=False, **kwargs):\n",
    "        \"\"\"Compute loss using weighted CrossEntropyLoss\"\"\"\n",
    "        labels = inputs[\"labels\"].view(-1)  # 🔹 Ensure labels are 1D\n",
    "        outputs = model(**{k: v for k, v in inputs.items() if k != \"labels\"})\n",
    "        logits = outputs.logits\n",
    "\n",
    "        # Apply weighted loss\n",
    "        loss_fct = torch.nn.CrossEntropyLoss(weight=log_class_weights)\n",
    "        loss = loss_fct(logits, labels)\n",
    "\n",
    "        return (loss, outputs) if return_outputs else loss\n",
    "\n",
    "# Load model\n",
    "model = DebertaV2ForSequenceClassification.from_pretrained(MODEL_NAME, config=config)\n",
    "\n",
    "# Training arguments (Use val set for evaluation)\n",
    "training_args = TrainingArguments(\n",
    "    output_dir=\"./results\",\n",
    "    evaluation_strategy=\"epoch\",\n",
    "    save_strategy=\"epoch\",\n",
    "    num_train_epochs=8,  # Set high, but early stopping will stop it early\n",
    "    per_device_train_batch_size=32,\n",
    "    per_device_eval_batch_size=32,\n",
    "    fp16=True,\n",
    "    learning_rate=1e-5,\n",
    "    weight_decay=0.01,\n",
    "    save_total_limit=1,\n",
    "    load_best_model_at_end=True,\n",
    "    metric_for_best_model=\"eval_loss\",\n",
    "    logging_dir=\"./logs\",\n",
    "    logging_steps=10,\n",
    "    report_to=\"none\",\n",
    "    lr_scheduler_type=\"cosine\",\n",
    "    warmup_ratio=0.1,\n",
    "    greater_is_better=False,\n",
    ")\n",
    "\n",
    "# Define evaluation metrics\n",
    "def compute_metrics(pred):\n",
    "    predictions = np.argmax(pred.predictions, axis=1)\n",
    "    return {\"f1\": f1_score(pred.label_ids, predictions)}\n",
    "\n",
    "# Use Custom Trainer (Train with val set, dev set reserved for final eval)\n",
    "trainer = WeightedTrainer(\n",
    "    model=model,\n",
    "    args=training_args,\n",
    "    train_dataset=train_dataset,\n",
    "    eval_dataset=val_dataset,  # Use validation set for evaluation\n",
    "    compute_metrics=compute_metrics,\n",
    "    callbacks=[EarlyStoppingCallback(early_stopping_patience=2, early_stopping_threshold=0.0)],  # Stop if val loss increases for 2 consecutive epochs\n",
    ")\n",
    "\n",
    "# Train DeBERTa\n",
    "trainer.train()\n",
    "\n",
<<<<<<< HEAD
    "# ✅ **Final Evaluation on Dev Set**\n",
    "print(\"\\nEvaluating on Dev Set...\")\n",
=======
    "# Final Evaluation on Dev Set\n",
    "print(\"\\n✅ Evaluating on Dev Set...\")\n",
>>>>>>> 2e5fa84106e63e7cae2205816a019fe0cd815dc6
    "results = trainer.predict(dev_dataset)\n",
    "y_pred = np.argmax(results.predictions, axis=1).tolist()\n",
    "\n",
    "# Fix F1 Score Retrieval\n",
    "final_f1 = results.metrics.get(\"test_f1\", 0.0)\n",
    "print(f\"Final Dev F1 Score: {final_f1:.4f}\")\n"
   ]
  },
  {
   "cell_type": "code",
   "execution_count": null,
   "metadata": {},
   "outputs": [],
   "source": [
    "# Save Predictions to dev.txt (1 line per prediction)\n",
    "output_file = \"dev.txt\"\n",
    "with open(output_file, \"w\") as f:\n",
    "    for pred in y_pred:\n",
    "        f.write(f\"{pred}\\n\")\n",
    "\n",
    "print(f\"Predictions saved to {output_file}\")"
   ]
  },
  {
   "cell_type": "code",
   "execution_count": null,
   "metadata": {},
   "outputs": [],
   "source": [
    "# Load test dataset without headers (assuming the first row is actual data)\n",
    "test_df = pd.read_csv(\"Dont_Patronize_Me_Trainingset/task4_test.tsv\", sep=\"\\t\", header=None)\n",
    "\n",
    "# Extract the 5th column dynamically (0-based index = 4)\n",
    "test_texts = test_df.iloc[:, 4].astype(str)  # Selects the 5th column\n",
    "\n",
    "# Convert to Hugging Face Dataset\n",
    "test_dataset = Dataset.from_pandas(pd.DataFrame({\"text\": test_texts}))\n",
    "\n",
    "# Tokenize test set\n",
    "test_dataset = test_dataset.map(tokenize_function, batched=True)\n",
    "\n",
    "# Make predictions\n",
    "print(\"\\nPredicting on Test Set...\")\n",
    "test_results = trainer.predict(test_dataset)\n",
    "\n",
    "# Extract binary predictions (0 or 1)\n",
    "test_predictions = np.argmax(test_results.predictions, axis=1).tolist()\n",
    "\n",
    "# Save Predictions to test.txt (1 line per prediction)\n",
    "output_file = \"test.txt\"\n",
    "with open(output_file, \"w\") as f:\n",
    "    for pred in test_predictions:\n",
    "        f.write(f\"{pred}\\n\")\n",
    "\n",
    "print(f\"Test set predictions saved to {output_file}\")"
   ]
  }
 ],
 "metadata": {
  "kernelspec": {
   "display_name": ".venv",
   "language": "python",
   "name": "python3"
  },
  "language_info": {
   "codemirror_mode": {
    "name": "ipython",
    "version": 3
   },
   "file_extension": ".py",
   "mimetype": "text/x-python",
   "name": "python",
   "nbconvert_exporter": "python",
   "pygments_lexer": "ipython3",
   "version": "3.12.3"
  }
 },
 "nbformat": 4,
 "nbformat_minor": 2
}
