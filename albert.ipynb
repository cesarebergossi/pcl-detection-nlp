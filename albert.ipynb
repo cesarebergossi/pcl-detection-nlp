{
 "cells": [
  {
   "cell_type": "code",
   "execution_count": null,
   "metadata": {},
   "outputs": [
    {
     "name": "stderr",
     "output_type": "stream",
     "text": [
      "/vol/bitbucket/lf524/nlp_cw/.venv/lib/python3.12/site-packages/tqdm/auto.py:21: TqdmWarning: IProgress not found. Please update jupyter and ipywidgets. See https://ipywidgets.readthedocs.io/en/stable/user_install.html\n",
      "  from .autonotebook import tqdm as notebook_tqdm\n",
      "2025-03-04 17:24:29.077386: E external/local_xla/xla/stream_executor/cuda/cuda_fft.cc:477] Unable to register cuFFT factory: Attempting to register factory for plugin cuFFT when one has already been registered\n",
      "WARNING: All log messages before absl::InitializeLog() is called are written to STDERR\n",
      "E0000 00:00:1741109069.103438  557400 cuda_dnn.cc:8310] Unable to register cuDNN factory: Attempting to register factory for plugin cuDNN when one has already been registered\n",
      "E0000 00:00:1741109069.111708  557400 cuda_blas.cc:1418] Unable to register cuBLAS factory: Attempting to register factory for plugin cuBLAS when one has already been registered\n",
      "2025-03-04 17:24:29.139773: I tensorflow/core/platform/cpu_feature_guard.cc:210] This TensorFlow binary is optimized to use available CPU instructions in performance-critical operations.\n",
      "To enable the following instructions: AVX2 AVX512F FMA, in other operations, rebuild TensorFlow with the appropriate compiler flags.\n"
     ]
    }
   ],
   "source": [
    "import pandas as pd\n",
    "import logging\n",
    "import torch\n",
    "from collections import Counter\n",
    "from ast import literal_eval\n",
    "from datasets import Dataset\n",
    "import numpy as np\n",
    "from sklearn.metrics import f1_score\n",
    "from sklearn.utils.class_weight import compute_class_weight\n",
    "import numpy as np\n",
    "from transformers import (\n",
    "    AlbertTokenizer,\n",
    "    AlbertConfig,\n",
    "    AlbertForSequenceClassification,\n",
    "    TrainingArguments,\n",
    "    Trainer,\n",
    "    EarlyStoppingCallback\n",
    ")\n"
   ]
  },
  {
   "cell_type": "code",
   "execution_count": 2,
   "metadata": {},
   "outputs": [
    {
     "name": "stdout",
     "output_type": "stream",
     "text": [
      "Cuda available?  True\n"
     ]
    }
   ],
   "source": [
    "# prepare logger\n",
    "logging.basicConfig(level=logging.INFO)\n",
    "\n",
    "transformers_logger = logging.getLogger(\"transformers\")\n",
    "transformers_logger.setLevel(logging.WARNING)\n",
    "\n",
    "# check gpu\n",
    "cuda_available = torch.cuda.is_available()\n",
    "\n",
    "print('Cuda available? ',cuda_available)"
   ]
  },
  {
   "cell_type": "code",
   "execution_count": 3,
   "metadata": {},
   "outputs": [
    {
     "name": "stdout",
     "output_type": "stream",
     "text": [
      "Found GPU at: /device:GPU:0\n"
     ]
    },
    {
     "name": "stderr",
     "output_type": "stream",
     "text": [
      "I0000 00:00:1741109078.387200  557400 gpu_device.cc:2022] Created device /device:GPU:0 with 13775 MB memory:  -> device: 0, name: Tesla T4, pci bus id: 0000:00:06.0, compute capability: 7.5\n"
     ]
    }
   ],
   "source": [
    "if cuda_available:\n",
    "  import tensorflow as tf\n",
    "  # Get the GPU device name.\n",
    "  device_name = tf.test.gpu_device_name()\n",
    "  # The device name should look like the following:\n",
    "  if device_name == '/device:GPU:0':\n",
    "      print('Found GPU at: {}'.format(device_name))\n",
    "  else:\n",
    "      raise SystemError('GPU device not found')"
   ]
  },
  {
   "cell_type": "code",
   "execution_count": 4,
   "metadata": {},
   "outputs": [],
   "source": [
    "train_df = pd.read_csv(\"Data/augmented_train_split.csv\")\n",
    "val_df = pd.read_csv(\"Data/val_split.csv\")\n",
    "dev_df = pd.read_csv(\"Data/dev.csv\")"
   ]
  },
  {
   "cell_type": "code",
   "execution_count": 5,
   "metadata": {},
   "outputs": [],
   "source": [
    "train_df[\"text\"] = train_df[\"text\"].astype(str)\n",
    "val_df[\"text\"] = val_df[\"text\"].astype(str)\n",
    "dev_df[\"text\"] = dev_df[\"text\"].astype(str)"
   ]
  },
  {
   "cell_type": "code",
   "execution_count": 6,
   "metadata": {},
   "outputs": [
    {
     "name": "stderr",
     "output_type": "stream",
     "text": [
      "Map: 100%|██████████| 12057/12057 [00:08<00:00, 1348.41 examples/s]\n",
      "Map: 100%|██████████| 1675/1675 [00:01<00:00, 1341.06 examples/s]\n",
      "Map: 100%|██████████| 2094/2094 [00:01<00:00, 1391.15 examples/s]\n",
      "Some weights of AlbertForSequenceClassification were not initialized from the model checkpoint at albert-base-v2 and are newly initialized: ['classifier.bias', 'classifier.weight']\n",
      "You should probably TRAIN this model on a down-stream task to be able to use it for predictions and inference.\n",
      "/vol/bitbucket/lf524/nlp_cw/.venv/lib/python3.12/site-packages/transformers/training_args.py:1594: FutureWarning: `evaluation_strategy` is deprecated and will be removed in version 4.46 of 🤗 Transformers. Use `eval_strategy` instead\n",
      "  warnings.warn(\n"
     ]
    },
    {
     "name": "stdout",
     "output_type": "stream",
     "text": [
      "Class Weights: [0.55236394 5.27427822]\n"
     ]
    },
    {
     "data": {
      "text/html": [
       "\n",
       "    <div>\n",
       "      \n",
       "      <progress value='3016' max='3016' style='width:300px; height:20px; vertical-align: middle;'></progress>\n",
       "      [3016/3016 53:40, Epoch 8/8]\n",
       "    </div>\n",
       "    <table border=\"1\" class=\"dataframe\">\n",
       "  <thead>\n",
       " <tr style=\"text-align: left;\">\n",
       "      <th>Epoch</th>\n",
       "      <th>Training Loss</th>\n",
       "      <th>Validation Loss</th>\n",
       "      <th>F1</th>\n",
       "    </tr>\n",
       "  </thead>\n",
       "  <tbody>\n",
       "    <tr>\n",
       "      <td>1</td>\n",
       "      <td>0.524800</td>\n",
       "      <td>0.544039</td>\n",
       "      <td>0.234234</td>\n",
       "    </tr>\n",
       "    <tr>\n",
       "      <td>2</td>\n",
       "      <td>0.493900</td>\n",
       "      <td>0.470271</td>\n",
       "      <td>0.389916</td>\n",
       "    </tr>\n",
       "    <tr>\n",
       "      <td>3</td>\n",
       "      <td>0.453900</td>\n",
       "      <td>0.441532</td>\n",
       "      <td>0.412060</td>\n",
       "    </tr>\n",
       "    <tr>\n",
       "      <td>4</td>\n",
       "      <td>0.365800</td>\n",
       "      <td>0.432288</td>\n",
       "      <td>0.425225</td>\n",
       "    </tr>\n",
       "    <tr>\n",
       "      <td>5</td>\n",
       "      <td>0.320600</td>\n",
       "      <td>0.493964</td>\n",
       "      <td>0.389490</td>\n",
       "    </tr>\n",
       "    <tr>\n",
       "      <td>6</td>\n",
       "      <td>0.358800</td>\n",
       "      <td>0.430961</td>\n",
       "      <td>0.460888</td>\n",
       "    </tr>\n",
       "    <tr>\n",
       "      <td>7</td>\n",
       "      <td>0.353600</td>\n",
       "      <td>0.430228</td>\n",
       "      <td>0.454955</td>\n",
       "    </tr>\n",
       "    <tr>\n",
       "      <td>8</td>\n",
       "      <td>0.349900</td>\n",
       "      <td>0.434535</td>\n",
       "      <td>0.457014</td>\n",
       "    </tr>\n",
       "  </tbody>\n",
       "</table><p>"
      ],
      "text/plain": [
       "<IPython.core.display.HTML object>"
      ]
     },
     "metadata": {},
     "output_type": "display_data"
    },
    {
     "name": "stdout",
     "output_type": "stream",
     "text": [
      "\n",
      "✅ Evaluating on Dev Set...\n"
     ]
    },
    {
     "data": {
      "text/html": [],
      "text/plain": [
       "<IPython.core.display.HTML object>"
      ]
     },
     "metadata": {},
     "output_type": "display_data"
    },
    {
     "name": "stdout",
     "output_type": "stream",
     "text": [
      "✅ Final Dev F1 Score for ALBERT: 0.4765\n"
     ]
    }
   ],
   "source": [
    "# ✅ **Model Name**\n",
    "MODEL_NAME = \"albert-base-v2\"\n",
    "\n",
    "# ✅ **Load Tokenizer**\n",
    "tokenizer = AlbertTokenizer.from_pretrained(MODEL_NAME)\n",
    "\n",
    "# ✅ **Load ALBERT Config with Modified Dropout**\n",
    "config = AlbertConfig.from_pretrained(\n",
    "    MODEL_NAME,\n",
    "    num_labels=2,  # Adjust based on your classification task\n",
    "    hidden_dropout_prob=0.2,  # Increase dropout for hidden layers\n",
    ")\n",
    "\n",
    "# ✅ **Ensure Labels are Integers**\n",
    "train_df[\"label\"] = train_df[\"label\"].astype(int)\n",
    "val_df[\"label\"] = val_df[\"label\"].astype(int)\n",
    "dev_df[\"label\"] = dev_df[\"label\"].astype(int)\n",
    "\n",
    "# ✅ **Convert Pandas DataFrames to Hugging Face Datasets**\n",
    "train_dataset = Dataset.from_pandas(train_df)\n",
    "val_dataset = Dataset.from_pandas(val_df)\n",
    "dev_dataset = Dataset.from_pandas(dev_df)\n",
    "\n",
    "# ✅ **Tokenization Function**\n",
    "def tokenize_function(examples):\n",
    "    return tokenizer(examples[\"text\"], padding=\"max_length\", truncation=True, max_length=512)\n",
    "\n",
    "train_dataset = train_dataset.map(tokenize_function, batched=True)\n",
    "val_dataset = val_dataset.map(tokenize_function, batched=True)\n",
    "dev_dataset = dev_dataset.map(tokenize_function, batched=True)\n",
    "\n",
    "# ✅ **Compute Class Weights**\n",
    "labels = train_df[\"label\"].values\n",
    "class_weights = compute_class_weight(class_weight=\"balanced\", classes=np.unique(labels), y=labels)\n",
    "log_class_weights = torch.tensor(np.log1p(class_weights), dtype=torch.float32).to(\"cuda\")\n",
    "\n",
    "print(f\"Class Weights: {class_weights}\")  # Debugging output\n",
    "\n",
    "# ✅ **Modify Trainer to Apply Loss Weights**\n",
    "class WeightedTrainer(Trainer):\n",
    "    def compute_loss(self, model, inputs, return_outputs=False, **kwargs):\n",
    "        \"\"\"Compute loss using weighted CrossEntropyLoss\"\"\"\n",
    "        labels = inputs[\"labels\"].view(-1)  # Ensure labels are 1D\n",
    "        outputs = model(**{k: v for k, v in inputs.items() if k != \"labels\"})\n",
    "        logits = outputs.logits\n",
    "\n",
    "        # Apply weighted loss\n",
    "        loss_fct = torch.nn.CrossEntropyLoss(weight=log_class_weights)\n",
    "        loss = loss_fct(logits, labels)\n",
    "\n",
    "        return (loss, outputs) if return_outputs else loss\n",
    "\n",
    "# ✅ **Load ALBERT Model**\n",
    "model = AlbertForSequenceClassification.from_pretrained(MODEL_NAME, config=config)\n",
    "\n",
    "# ✅ **Training Arguments**\n",
    "training_args = TrainingArguments(\n",
    "    output_dir=\"./results_albert\",\n",
    "    evaluation_strategy=\"epoch\",\n",
    "    save_strategy=\"epoch\",\n",
    "    num_train_epochs=8,  # Set high, but early stopping will stop it early\n",
    "    per_device_train_batch_size=32,\n",
    "    per_device_eval_batch_size=32,\n",
    "    fp16=True,\n",
    "    learning_rate=1e-5,\n",
    "    weight_decay=0.01,\n",
    "    save_total_limit=1,\n",
    "    load_best_model_at_end=True,\n",
    "    metric_for_best_model=\"eval_loss\",  # Monitor Validation Loss\n",
    "    logging_dir=\"./logs_albert\",\n",
    "    logging_steps=10,\n",
    "    report_to=\"none\",\n",
    "    lr_scheduler_type=\"cosine\",\n",
    "    warmup_ratio=0.1,\n",
    "    greater_is_better=False,  # Lower validation loss is better\n",
    ")\n",
    "\n",
    "# ✅ **Define Evaluation Metrics**\n",
    "def compute_metrics(pred):\n",
    "    predictions = np.argmax(pred.predictions, axis=1)\n",
    "    return {\"f1\": f1_score(pred.label_ids, predictions)}\n",
    "\n",
    "# ✅ **Use Custom Trainer (Train with val set, dev set reserved for final eval)**\n",
    "trainer = WeightedTrainer(\n",
    "    model=model,\n",
    "    args=training_args,\n",
    "    train_dataset=train_dataset,\n",
    "    eval_dataset=val_dataset,  # Use validation set for evaluation\n",
    "    compute_metrics=compute_metrics,\n",
    "    callbacks=[EarlyStoppingCallback(early_stopping_patience=2, early_stopping_threshold=0.0)],  # Stop if val loss increases for 2 consecutive epochs\n",
    ")\n",
    "\n",
    "# ✅ **Train ALBERT**\n",
    "trainer.train()\n",
    "\n",
    "# ✅ **Final Evaluation on Dev Set**\n",
    "print(\"\\n✅ Evaluating on Dev Set...\")\n",
    "results = trainer.predict(dev_dataset)\n",
    "y_pred = np.argmax(results.predictions, axis=1).tolist()\n",
    "\n",
    "# ✅ **Fix F1 Score Retrieval**\n",
    "final_f1 = results.metrics.get(\"test_f1\", 0.0)\n",
    "print(f\"✅ Final Dev F1 Score for ALBERT: {final_f1:.4f}\")"
   ]
  },
  {
   "cell_type": "code",
   "execution_count": null,
   "metadata": {},
   "outputs": [],
   "source": []
  }
 ],
 "metadata": {
  "kernelspec": {
   "display_name": ".venv",
   "language": "python",
   "name": "python3"
  },
  "language_info": {
   "codemirror_mode": {
    "name": "ipython",
    "version": 3
   },
   "file_extension": ".py",
   "mimetype": "text/x-python",
   "name": "python",
   "nbconvert_exporter": "python",
   "pygments_lexer": "ipython3",
   "version": "3.12.3"
  }
 },
 "nbformat": 4,
 "nbformat_minor": 2
}
