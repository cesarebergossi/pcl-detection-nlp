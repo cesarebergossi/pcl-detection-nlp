{
 "cells": [
  {
   "cell_type": "code",
   "execution_count": 14,
   "metadata": {},
   "outputs": [],
   "source": [
    "import pandas as pd\n",
    "from sklearn.feature_extraction.text import TfidfVectorizer\n",
    "from sklearn.linear_model import LogisticRegression\n",
    "from sklearn.metrics import f1_score\n",
    "\n",
    "# Load datasets\n",
    "train_df = pd.read_csv(\"/vol/bitbucket/lf524/nlp_cw/Data/train.csv\")\n",
    "dev_df = pd.read_csv(\"/vol/bitbucket/lf524/nlp_cw/Data/dev.csv\")\n",
    "\n",
    "# Ensure text columns are strings\n",
    "train_df[\"text\"] = train_df[\"text\"].astype(str)\n",
    "dev_df[\"text\"] = dev_df[\"text\"].astype(str)\n",
    "\n",
    "# Downsample negative instances in the training set\n",
    "pcldf_train = train_df[train_df.label == 1]  # Positive class (1s)\n",
    "npos_train = len(pcldf_train)\n",
    "\n",
    "training_set = pd.concat([pcldf_train, train_df[train_df.label == 0][:npos_train * 2]])\n",
    "training_set = training_set.sample(frac=1, random_state=42).reset_index(drop=True)\n",
    "\n",
    "# TF-IDF Vectorizer\n",
    "vectorizer = TfidfVectorizer(max_features=5000, stop_words=\"english\", ngram_range=(1,2))  # Bi-grams included\n",
    "X_train = vectorizer.fit_transform(training_set[\"text\"])\n",
    "X_dev = vectorizer.transform(dev_df[\"text\"])\n",
    "\n",
    "# Logistic Regression Model\n",
    "clf = LogisticRegression(max_iter=500)\n",
    "clf.fit(X_train, training_set[\"label\"])\n",
    "\n",
    "# Make Predictions\n",
    "y_pred = clf.predict(X_dev)"
   ]
  },
  {
   "cell_type": "code",
   "execution_count": 15,
   "metadata": {},
   "outputs": [
    {
     "name": "stdout",
     "output_type": "stream",
     "text": [
      "TF-IDF + Logistic Regression Dev F1 Score: 0.3189\n",
      "Predictions saved in task1_tfidf_lr.txt\n"
     ]
    }
   ],
   "source": [
    "# Compute F1 Score\n",
    "f1 = f1_score(dev_df[\"label\"], y_pred)\n",
    "\n",
    "# Print results\n",
    "print(f\"TF-IDF + Logistic Regression Dev F1 Score: {f1:.4f}\")\n",
    "\n",
    "# Save predictions\n",
    "dev_df[\"predicted_label\"] = y_pred\n",
    "dev_df[[\"par_id\", \"predicted_label\"]].to_csv(\"task1_tfidf_lr.txt\", index=False)\n",
    "\n",
    "print(\"Predictions saved in task1_tfidf_lr.txt\")"
   ]
  },
  {
   "cell_type": "code",
   "execution_count": null,
   "metadata": {},
   "outputs": [],
   "source": []
  }
 ],
 "metadata": {
  "kernelspec": {
   "display_name": ".venv",
   "language": "python",
   "name": "python3"
  },
  "language_info": {
   "codemirror_mode": {
    "name": "ipython",
    "version": 3
   },
   "file_extension": ".py",
   "mimetype": "text/x-python",
   "name": "python",
   "nbconvert_exporter": "python",
   "pygments_lexer": "ipython3",
   "version": "3.12.3"
  }
 },
 "nbformat": 4,
 "nbformat_minor": 2
}
