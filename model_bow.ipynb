{
 "cells": [
  {
   "cell_type": "code",
   "execution_count": 21,
   "metadata": {},
   "outputs": [],
   "source": [
    "import pandas as pd\n",
    "import numpy as np\n",
    "from sklearn.feature_extraction.text import CountVectorizer\n",
    "from sklearn.naive_bayes import MultinomialNB\n",
    "from sklearn.metrics import classification_report, confusion_matrix, accuracy_score, f1_score\n",
    "import matplotlib.pyplot as plt\n",
    "import seaborn as sns\n",
    "from sklearn.model_selection import cross_val_score"
   ]
  },
  {
   "cell_type": "code",
   "execution_count": 22,
   "metadata": {},
   "outputs": [],
   "source": [
    "def load_data(train_path, test_path):\n",
    "    train_df = pd.read_csv(train_path)\n",
    "    test_df = pd.read_csv(test_path)\n",
    "\n",
    "    # Extract features and labels\n",
    "    X_train = train_df['text'].astype(str)\n",
    "    y_train = train_df['label']\n",
    "    X_test = test_df['text'].astype(str)\n",
    "    y_test = test_df['label']\n",
    "    \n",
    "    return X_train, y_train, X_test, y_test, train_df, test_df"
   ]
  },
  {
   "cell_type": "code",
   "execution_count": 23,
   "metadata": {},
   "outputs": [],
   "source": [
    "def create_bow_features(X_train, X_test):\n",
    "    \n",
    "    vectorizer = CountVectorizer(min_df=2, max_df=0.85)\n",
    "    X_train_bow = vectorizer.fit_transform(X_train)\n",
    "    X_test_bow = vectorizer.transform(X_test)\n",
    "    \n",
    "    return X_train_bow, X_test_bow, vectorizer"
   ]
  },
  {
   "cell_type": "code",
   "execution_count": 24,
   "metadata": {},
   "outputs": [],
   "source": [
    "def train_model(X_train_bow, y_train, X_test_bow, y_test):\n",
    "    nb_model = MultinomialNB()\n",
    "    cv_scores = cross_val_score(nb_model, X_train_bow, y_train, cv=5)\n",
    "    print(f\"Cross-validation scores: {cv_scores}\")\n",
    "    print(f\"Mean CV score: {np.mean(cv_scores):.4f}\")\n",
    "    \n",
    "    nb_model.fit(X_train_bow, y_train)\n",
    "    \n",
    "    y_pred = nb_model.predict(X_test_bow)\n",
    "    \n",
    "    accuracy = accuracy_score(y_test, y_pred)\n",
    "    print(f\"Test Accuracy: {accuracy:.4f}\")\n",
    "    \n",
    "    report = classification_report(y_test, y_pred, target_names=[\"not pl\", \"pl\"], labels=[0, 1])\n",
    "    print(\"Classification Report:\")\n",
    "    print(report)\n",
    "\n",
    "    # ✅ Extract and print F1-score\n",
    "    f1 = f1_score(y_test, y_pred)\n",
    "    print(f\"F1 Score: {f1:.4f}\")\n",
    "    \n",
    "    # Create confusion matrix\n",
    "    cm = confusion_matrix(y_test, y_pred)\n",
    "    plot_confusion_matrix(cm, [\"not pl\", \"pl\"])\n",
    "    \n",
    "    return nb_model, y_pred, report"
   ]
  },
  {
   "cell_type": "code",
   "execution_count": 25,
   "metadata": {},
   "outputs": [],
   "source": [
    "def plot_confusion_matrix(cm, class_names):\n",
    "    plt.figure(figsize=(8, 6))\n",
    "    sns.heatmap(cm, annot=True, fmt='d', cmap='Blues', xticklabels=class_names, yticklabels=class_names)\n",
    "    plt.xlabel('Predicted Labels')\n",
    "    plt.ylabel('True Labels')\n",
    "    plt.title('Confusion Matrix')\n",
    "    plt.show()"
   ]
  },
  {
   "cell_type": "code",
   "execution_count": 26,
   "metadata": {},
   "outputs": [],
   "source": [
    "def analyze_errors(test_df, y_test, y_pred):\n",
    "    test_df['predicted'] = y_pred\n",
    "    misclassified = test_df[test_df['label'] != test_df['predicted']]\n",
    "    \n",
    "    print(f\"Number of misclassified examples: {len(misclassified)}\")\n",
    "    \n",
    "    if len(misclassified) > 0:\n",
    "        print(\"Sample of misclassified texts:\")\n",
    "        samples = misclassified.sample(min(5, len(misclassified)))\n",
    "        for i, row in samples.iterrows():\n",
    "            print(f\"Text: {row['text'][:100]}...\")\n",
    "            print(f\"True label: {row['label']} (Predicted: {row['predicted']})\")\n",
    "            print(\"-\" * 80)\n",
    "    \n",
    "    return misclassified"
   ]
  },
  {
   "cell_type": "code",
   "execution_count": 27,
   "metadata": {},
   "outputs": [
    {
     "name": "stdout",
     "output_type": "stream",
     "text": [
      "Training examples: 8375\n",
      "Testing examples: 2094\n",
      "Label distribution in training: {0: 7581, 1: 794}\n",
      "Vocabulary size: 12939\n",
      "Cross-validation scores: [0.88298507 0.89253731 0.89074627 0.89313433 0.88597015]\n",
      "Mean CV score: 0.8891\n",
      "Test Accuracy: 0.8945\n",
      "Classification Report:\n",
      "              precision    recall  f1-score   support\n",
      "\n",
      "      not pl       0.92      0.97      0.94      1895\n",
      "          pl       0.37      0.16      0.22       199\n",
      "\n",
      "    accuracy                           0.89      2094\n",
      "   macro avg       0.64      0.57      0.58      2094\n",
      "weighted avg       0.87      0.89      0.88      2094\n",
      "\n",
      "F1 Score: 0.2246\n"
     ]
    },
    {
     "data": {
      "image/png": "[encoded data removed]",
      "text/plain": [
       "<Figure size 800x600 with 2 Axes>"
      ]
     },
     "metadata": {},
     "output_type": "display_data"
    },
    {
     "name": "stdout",
     "output_type": "stream",
     "text": [
      "Number of misclassified examples: 221\n",
      "Sample of misclassified texts:\n",
      "Text: It is miserable being poor and homeless in an affluent nation where one 's worth is measured by what...\n",
      "True label: 1 (Predicted: 0)\n",
      "--------------------------------------------------------------------------------\n",
      "Text: \" We know Uber partners with an extensive network of drivers , and Plunket nurses support some of ou...\n",
      "True label: 1 (Predicted: 0)\n",
      "--------------------------------------------------------------------------------\n",
      "Text: IdeaRaya spokesman Maryam Ramli Lee in an interview with Malay Mail Online , September 10 , 2015 . F...\n",
      "True label: 1 (Predicted: 0)\n",
      "--------------------------------------------------------------------------------\n",
      "Text: \" I expect more resources in the hands of people in need and the humanitarian workers on the frontli...\n",
      "True label: 1 (Predicted: 0)\n",
      "--------------------------------------------------------------------------------\n",
      "Text: TurkIt 's heartening to see that measures are being taken in Khyber Pakhtunkhwa ( KP ) to empower wo...\n",
      "True label: 1 (Predicted: 0)\n",
      "--------------------------------------------------------------------------------\n"
     ]
    }
   ],
   "source": [
    "train_path = 'Data/train.csv'  # Update with your actual file paths\n",
    "test_path = 'Data/dev.csv'\n",
    "\n",
    "# Load data\n",
    "X_train, y_train, X_test, y_test, train_df, test_df = load_data(train_path, test_path)\n",
    "\n",
    "# Print data statistics\n",
    "print(f\"Training examples: {len(X_train)}\")\n",
    "print(f\"Testing examples: {len(X_test)}\")\n",
    "print(f\"Label distribution in training: {pd.Series(y_train).value_counts().to_dict()}\")\n",
    "\n",
    "# Create BoW features\n",
    "X_train_bow, X_test_bow, vectorizer = create_bow_features(X_train, X_test)\n",
    "print(f\"Vocabulary size: {len(vectorizer.get_feature_names_out())}\")\n",
    "\n",
    "# Train and evaluate model\n",
    "nb_model, y_pred, report = train_model(X_train_bow, y_train, X_test_bow, y_test)\n",
    "\n",
    "# Analyze important features\n",
    "# analyze_important_features(vectorizer, nb_model, [\"not pl\", \"pl\"])\n",
    "\n",
    "# Analyze errors\n",
    "misclassified = analyze_errors(test_df, y_test, y_pred)\n",
    "\n"
   ]
  },
  {
   "cell_type": "code",
   "execution_count": null,
   "metadata": {},
   "outputs": [],
   "source": []
  }
 ],
 "metadata": {
  "kernelspec": {
   "display_name": ".venv",
   "language": "python",
   "name": "python3"
  },
  "language_info": {
   "codemirror_mode": {
    "name": "ipython",
    "version": 3
   },
   "file_extension": ".py",
   "mimetype": "text/x-python",
   "name": "python",
   "nbconvert_exporter": "python",
   "pygments_lexer": "ipython3",
   "version": "3.12.3"
  }
 },
 "nbformat": 4,
 "nbformat_minor": 2
}
